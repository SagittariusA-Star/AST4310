{
 "cells": [
  {
   "cell_type": "markdown",
   "metadata": {},
   "source": [
    "# Stellar spectra    A. Basic Line Formation  \n",
    "\n",
    "\n",
    "**Nils-Ole Stutzer**"
   ]
  },
  {
   "cell_type": "markdown",
   "metadata": {},
   "source": [
    "***Instructions*** *This is the template for submitting SSA. Please update your name or student identifier above. Before you submit, make sure you delete all the markdown cells with text in italic (such as these instructions). Do not delete the questions themselves. Write your answers in the cells below the questions. While only one empty cell appears before the question blocks, feel free to add any quantity of cells (code or Markdown) in the order and quantity you see fit. You can also modify the header below to suit your needs, but please don't use any non-standard packages and do not load external code. The whole notebook must run without any errors in the code. In this first experiment with notebooks, there are no page / text limits. But please write concisely, and try to keep it short!*"
   ]
  },
  {
   "cell_type": "code",
   "execution_count": 1,
   "metadata": {},
   "outputs": [],
   "source": [
    "%matplotlib widget\n",
    "\n",
    "import numpy\n",
    "import matplotlib.pyplot as plt\n",
    "from cycler import cycler\n",
    "from matplotlib import cm\n",
    "from astropy import units\n",
    "from astropy import constants\n",
    "from astropy.visualization import quantity_support\n",
    "from astropy.io import ascii\n",
    "from IPython.display import set_matplotlib_formats\n",
    "\n",
    "quantity_support()\n",
    "set_matplotlib_formats('svg')\n",
    "plt.rc('legend', frameon=False)"
   ]
  },
  {
   "cell_type": "markdown",
   "metadata": {},
   "source": [
    "## 1. Saha-Boltzmann calibration of the Harvard sequence (\"Cecilia Payne\")\n",
    "\n",
    "## 1.1 Payne’s line strength diagram\n",
    "\n",
    "## 1.2 The Boltzmann and Saha laws\n",
    "\n",
    "* Inspect the hydrogen energy level diagram in section 1.2. Which transitions correspond to the hydrogen lines in the image with stellar spectrograms (section 1)? Which transitions share lower levels and which share upper levels?\n",
    "\n",
    "* Payne's basic assumption was that the strength of the absorption lines observed in stellar spectra scales with the population density of the lower level of the corresponding transition. Why would she think so? (It is not correct, but generally stellar absorption lines do get stronger at larger lower-level population. In this exercise we follow her example and assume that the scaling is linear.)\n",
    "\n",
    "* Use this expectation to give initial rough estimates of the strength ratios of the $\\alpha$ lines in the the H I Lyman, Balmer, Paschen and Brackett series.\n"
   ]
  },
  {
   "cell_type": "markdown",
   "metadata": {},
   "source": [
    "If we take a look at the hydrogen energy level diagram we can see that the Balmer lines (H + greek letter) are the only ones having the right wavelengths to appear in the stellar spectrum in section 1. The Lyman lines have a smaller wavelength, and the Paschen and Bracket lines have too large wavelengths to appear in the spectrogram. Thus the only hydrogen lines we can see are the H$\\beta$, H$\\gamma$, H$\\delta$ and H$\\epsilon$ lines. However, the H$\\gamma$, H$\\delta$ and H$\\epsilon$ lines are not drawn in the level diagram, but they are still there. All the Balmer lines share the same lower level at $s = 2$ . However there are no Balmer lines sharing a common upper level with other lines (such as Lyman lines) since they are not in the wavelength interval of the spectrogram."
   ]
  },
  {
   "cell_type": "markdown",
   "metadata": {},
   "source": [
    "Assuming we have a gas with a certain population density of a specific state of some atom. If the population density is high, it is somewhat natural to assume that there is a higher likelihood for electrons in that energy state to be exited by incoming photons. If there are more targets, the likelihood of hitting one is of course higher, one would think. This is of course not strictly true, as the line strength is dependent on multiple other factors."
   ]
  },
  {
   "cell_type": "markdown",
   "metadata": {},
   "source": [
    "According to Payne's basic assumption the strength of an absorption line observed in the stellar spectra is about propotional to the lower energy level population of the corresponding transition. Meaning \n",
    "$$\n",
    "n_{r,s} \\propto \\text{line strength}, \n",
    "$$\n",
    "where we let the ionisation level $r = 1$ and the lower energy state index of the transition be denoted by $s$. We want to find out roughly which of the $\\alpha$ lines n the HI Lyman, Balmer, Paschen and Bracket series is the stronges, using Payne's assumption. We do this by dividing the Boltzmann equation corresponding a transition with lower level $s$ by the Boltzmann equation corresponding to a different transition with lower level $t$. This way we eliminate the partition function $U_r$ and the total particle density of all levels of ionisation $N_r$, since they are the same for both tansitions. Thus\n",
    "$$\n",
    "\\frac{n_{1,s}/N_1}{n_{1,t}/N_r} = \\frac{n_{1,s}}{n_{1,t}}\n",
    "= \\frac{g_{1,s}e^{-\\chi_{1,s}/k_BT}}{g_{1,t}e^{-\\chi_{1,t}/k_BT}},\n",
    "$$\n",
    "gives an estiamte of which population density is the highest of two transitions, and through Payne's assumption which line should be the strongest. The statistical weights $g_{1,s} = 2s^2$ and the exititation energy of a level $s$ measured from the ground state is $\\chi_{1,s} = 13.598(1-\\frac{1}{s^2})$eV, where $s = 1, 2, 3, \\ldots$. Below we have written a short script calulation these ratios for the four lines of intrest."
   ]
  },
  {
   "cell_type": "code",
   "execution_count": 2,
   "metadata": {},
   "outputs": [
    {
     "name": "stdout",
     "output_type": "stream",
     "text": [
      "Ly a / Ba a: n_1 / n_2 = 4.75969e+09\n",
      "Ly a / Pa a: n_1 / n_3 = 1.69447e+11\n",
      "Ly a / Br a: n_1 / n_4 = 4.42007e+11\n",
      "Ba a / Pa a: n_2 / n_3 = 35.6004\n",
      "Ba a / Br a: n_2 / n_4 = 92.8645\n",
      "Pa a / Br a: n_3 / n_4 = 2.60853\n"
     ]
    }
   ],
   "source": [
    "g   = lambda s: 2 * s ** 2\n",
    "chi = lambda s: 13.598 * (1 - 1 / s ** 2) * units.eV\n",
    "\n",
    "\"\"\"For neutral hydrogen r = 1:\"\"\"\n",
    "n = lambda s, T: g(s) * numpy.exp(-chi(s) / (constants.k_B * T))\n",
    "\n",
    "T         = 5000 * units.K\n",
    "s         = numpy.arange(1, 5, 1)\n",
    "n_arr     = n(s, T)\n",
    "lines     = numpy.array([\"Ly a\", \"Ba a\", \"Pa a\", \"Br a\"])\n",
    "\n",
    "for i in range(4):\n",
    "    for j in range(4):\n",
    "        if i != j and i < j:\n",
    "            ratio = n(s[i], T) / n(s[j], T)\n",
    "            print(\"%s / %s: n_%d / n_%d = %g\" \n",
    "                  %(lines[i], lines[j], s[i], s[j], ratio))\n"
   ]
  },
  {
   "cell_type": "markdown",
   "metadata": {},
   "source": [
    "We can from the above program printout see that the lines are ordered as following: (from strong to weak) Ly$\\alpha$, Ba$\\alpha$, Pa$\\alpha$, Br$\\alpha$. Of course this is only a rough estimate, and it is important to note that the exact transition ($\\alpha$ lines) does not go into this ratio, as we have not taken ino account the upper level of the $\\alpha$ transition. Thus these ratios tell us about the relation between the line strengths of the Lyman, Balmer, Paschen an Bracket series as a whole. This would of course be way to easy to be true."
   ]
  },
  {
   "cell_type": "markdown",
   "metadata": {},
   "source": [
    "* Explain from equations (1) and (3) why the Saha and Boltzmann distributions behave differently for increasing temperature.\n",
    "* Speculate how ionisation can fully deplete a stage while excitation puts only a few atoms in levels just below the ionisation level. Hint: what is the limit of the Saha and Boltzman ratios for infinite temperature?"
   ]
  },
  {
   "cell_type": "markdown",
   "metadata": {},
   "source": [
    "When looking at the equations (1) and (3) for the Boltzmann and Saha equations we see that they behave quite different for increasing temperature. If we neglect the implisite temperature dependence of the Boltzmann and Saha equation, the Boltzmanns temperature dependence is found in the factor $\\exp\\left[-\\frac{\\chi_{r,s}}{kT}\\right]$, while the temperature dependence of the Saha equation has an additional factor $T^{3/2}\\exp\\left[-\\frac{\\chi_{r,s}}{kT}\\right]$ to the regular exponential factor. By increasing the temperature $T$ the temperature dependence of the Boltzmann equation thus drops away as $\\exp\\left[-\\frac{\\chi_{r,s}}{kT}\\right]\\to 1$ for $T\\to\\infty$. While the additional factor $T^{3/2}$ grows faster than $\\exp\\left[-\\frac{\\chi_{r,s}}{kT}\\right]$ as $T\\to\\infty$, making the Saha distribution diverge. Thus the Boltzmann equation will become less and less temperature dependent, eventually losing its temperature dependency all together when $T\\to\\infty$.\n",
    "\n"
   ]
  },
  {
   "cell_type": "markdown",
   "metadata": {},
   "source": [
    "Next let us consider the Saha law at $T\\to\\infty$. As discussed above the exponential factor in Saha's law drops to one, while $T^{3/2}\\to infty$ as $T\\to \\infty$. Therefore the fraction between the number density $\\frac{N_{r+1}}{N_r}\\to\\infty$ of ionisation stage $r$ and $r+1$. Thus $N_{r+1}$ is infinitly larger than $N_r$ or $N_r\\to 0$, meaning that no more atoms are in the lower ionisation stage $r$. If we do this for all possible $r$ we see that for $T\\to\\infty$ we fully deplete the lower ionisation stages, removing all electrons from the atom. \n",
    "\n",
    "Next we consider the Boltzmann distribution, and see that for any temperature $T$ the population fraction $\\frac{n_{r,s}}{N_r} = \\frac{g_{r,s}}{U_r}e^{-\\chi_{r,s}/kT}$ is always proportional to an exponential drop $e^{-\\chi_{r,s}/kT}$. Thus for increasing levels $s$, the energy $\\chi_{r,s}$ increases, making the exponential factor decrease the population fraction $\\frac{n_{r,s}}{N_r}$. Increasing the temperature the Boltzmann populations will eventually flatten out for all the levels $s$. From this we can thus see that there is allways an exponential drop-off in the number of atoms being in the higher exited levels, meaning exitation can at most put a few atoms in the higher exited states. "
   ]
  },
  {
   "cell_type": "markdown",
   "metadata": {},
   "source": [
    "## 1.3 Saha-Boltzmann populations of a simplified Ca atom\n",
    "\n",
    "### 1.3.1 Partition function \n",
    "\n",
    "### 1.3.2 Compute the level populations according to the Boltzmann law\n",
    "\n",
    "### 1.3.3 Compute the ionisation fractions according to the Saha law\n",
    "\n",
    "### 1.3.4 Put things on an atom class\n",
    "\n",
    "* Using the simplified Ca atom (`Ca_atom.txt`), compute the partition functions $U_r$ for T=5000, 10000, and 20000 K. What can you say about the temperature dependence of $U_r$?\n",
    "\n",
    "* Plot a \"Payne curve\" for the simplified Ca atom using the same temperature range (100 - 175.000 K) and electron pressure (100 Pa)\n",
    "\n",
    "* Make a separate figure with a Payne curve for an element of your choice. You can choose one of the existing model atoms, or you can use the [NIST atomic spectra database](https://physics.nist.gov/PhysRefData/ASD/levels_form.html) to build a model for any atom you'd like. How does it compare with Ca?"
   ]
  },
  {
   "cell_type": "markdown",
   "metadata": {},
   "source": [
    "In order to compute the partion functions $U_r$ we use the provided `Atom`-class. We simply import the stage energies, statistical weights and stage levels from the `Ca_atom.txt`-file. "
   ]
  },
  {
   "cell_type": "code",
   "execution_count": 3,
   "metadata": {},
   "outputs": [],
   "source": [
    "class Atom:\n",
    "    \"\"\"\n",
    "    Reads atomic data, calculates level populations according to Boltzmann's law,\n",
    "    and ionisation fractions according to Saha's law.\n",
    "    \"\"\"\n",
    "    \n",
    "    def __init__(self, atomfile=None):\n",
    "        \"\"\"\n",
    "        Parameters\n",
    "        ----------\n",
    "        atomfile : string, optional\n",
    "            Name of file with atomic data. If not present, atomic data needs\n",
    "            to be loaded with the .read_atom method.\n",
    "        \"\"\"\n",
    "        self.loaded = False\n",
    "        if atomfile:\n",
    "            self.read_atom(atomfile)\n",
    "        \n",
    "    def read_atom(self, filename):\n",
    "        \"\"\"\n",
    "        Reads atom structure from text file.\n",
    "        \n",
    "        Parameters\n",
    "        ----------\n",
    "        filename: string\n",
    "            Name of file with atomic data.\n",
    "        \"\"\"\n",
    "        tmp = numpy.loadtxt(filename, unpack=True)\n",
    "        self.n_stages = int(tmp[2].max()) + 1\n",
    "        # Get maximum number of levels in any stage\n",
    "        self.max_levels = 0\n",
    "        for i in range(self.n_stages):\n",
    "            self.max_levels = max(self.max_levels, (tmp[2] == i).sum())\n",
    "        # Populate level energies and statistical weights\n",
    "        # Use a square array filled with NaNs for non-existing levels\n",
    "        chi = numpy.empty((self.n_stages, self.max_levels))\n",
    "        chi.fill(numpy.nan)\n",
    "        self.g = numpy.copy(chi)\n",
    "        for i in range(self.n_stages):\n",
    "            nlevels = (tmp[2] == i).sum()\n",
    "            chi[i, :nlevels] = tmp[0][tmp[2] == i]\n",
    "            self.g[i, :nlevels] = tmp[1][tmp[2] == i]\n",
    "        # Put units, convert from cm-1 to Joule\n",
    "        chi = (chi / units.cm).to('aJ', equivalencies=units.spectral())\n",
    "        # Save ionisation energies, saved as energy of first level in each stage\n",
    "        self.chi_ion = chi[:, 0].copy()\n",
    "        # Save level energies relative to ground level in each stage\n",
    "        self.chi = chi - self.chi_ion[:, numpy.newaxis]\n",
    "        self.loaded = True\n",
    "        \n",
    "    def compute_partition_function(self, temperature):\n",
    "        \"\"\"\n",
    "        Computes partition functions using the atomic level energies and\n",
    "        statistical weights.\n",
    "        \n",
    "        Parameters\n",
    "        ----------\n",
    "        temperature: astropy.units.quantity (scalar or array)\n",
    "            Gas temperature in units of K or equivalent.\n",
    "        \"\"\"\n",
    "        if not self.loaded:\n",
    "            raise ValueError(\"Missing atom structure, please load atom with read_atom()\")\n",
    "        temp = temperature[numpy.newaxis, numpy.newaxis]  # to allow broadcast\n",
    "        return numpy.nansum(self.g[..., numpy.newaxis] * \n",
    "                            numpy.exp(-self.chi[..., numpy.newaxis] / \n",
    "                                      constants.k_B / temp), axis=1)\n",
    "    \n",
    "    def compute_excitation(self, temperature):\n",
    "        \"\"\"\n",
    "        Computes the level populations relative to the ground state,\n",
    "        according to the Boltzmann law.\n",
    "        \n",
    "        Parameters\n",
    "        ----------\n",
    "        temperature: astropy.units.quantity (scalar or array)\n",
    "            Gas temperature in units of K or equivalent.\n",
    "        \"\"\"\n",
    "        pfunc = self.compute_partition_function(temperature)\n",
    "        # Reshape arrays to allow broadcast\n",
    "        temp = temperature[numpy.newaxis, numpy.newaxis]\n",
    "        g_ratio = self.g[..., numpy.newaxis] / pfunc[:, numpy.newaxis]  # relative to total number of atoms in this stage\n",
    "        chi = self.chi[..., numpy.newaxis]\n",
    "        return g_ratio * numpy.exp(-chi / (constants.k_B * temp))\n",
    "    \n",
    "    def compute_ionisation(self, temperature, electron_pressure):\n",
    "        \"\"\"\n",
    "        Computes ionisation fractions according to the Saha law.\n",
    "        \n",
    "        Parameters\n",
    "        ----------\n",
    "        temperature: astropy.units.quantity (scalar or array)\n",
    "            Gas temperature in units of K or equivalent.\n",
    "        electron_pressure: astropy.units.quantity (scalar)\n",
    "            Electron pressure in units of Pa or equivalent.\n",
    "        \"\"\"\n",
    "        partition_function = self.compute_partition_function(temperature)\n",
    "        electron_density = electron_pressure / (constants.k_B * temperature)\n",
    "        saha_const = ((2 * numpy.pi * constants.m_e * constants.k_B * temperature) / \n",
    "                      (constants.h ** 2)) ** (3 / 2)\n",
    "        nstage = numpy.zeros_like(partition_function) / units.m ** 3\n",
    "        nstage[0] = 1. / units.m ** 3\n",
    "        # Below we use the values for ionisation energies that are saved\n",
    "        # in the first index of each excited state: self.chi[r + 1, 0]\n",
    "        for r in range(self.n_stages - 1):\n",
    "            nstage[r + 1] = (nstage[r] / electron_density * 2 * saha_const *\n",
    "                             partition_function[r + 1] / partition_function[r] * \n",
    "                             numpy.exp(-self.chi_ion[r + 1, numpy.newaxis] / \n",
    "                                       (constants.k_B * temperature[numpy.newaxis])))\n",
    "        # nansum is needed because the last stage might have only one level\n",
    "        # (only ionisation potential)\n",
    "        return nstage / numpy.nansum(nstage, axis=0)\n",
    "\n",
    "    def compute_populations(self, temperature, electron_pressure):\n",
    "        \"\"\"\n",
    "        Computes relative level populations for all levels and all\n",
    "        ionisation stages using the Bolzmann and Saha laws.\n",
    "        \n",
    "        Parameters\n",
    "        ----------\n",
    "        temperature: astropy.units.quantity (scalar or array)\n",
    "            Gas temperature in units of K or equivalent.\n",
    "        electron_pressure: astropy.units.quantity (scalar)\n",
    "            Electron pressure in units of Pa or equivalent.\n",
    "        \"\"\"\n",
    "        return (self.compute_excitation(temperature) * \n",
    "                self.compute_ionisation(temperature, electron_pressure)[:, numpy.newaxis])\n",
    "\n",
    "    def plot_payne(self, temperature, electron_pressure):\n",
    "        \"\"\"\n",
    "        Plots the Payne curves for the current atom.\n",
    "        \n",
    "        Parameters\n",
    "        ----------\n",
    "        temperature: astropy.units.quantity (array)\n",
    "            Gas temperature in units of K or equivalent.\n",
    "        electron_pressure: astropy.units.quantity (scalar)\n",
    "            Electron pressure in units of Pa or equivalent.\n",
    "        \"\"\"\n",
    "        pops = self.compute_populations(temperature, electron_pressure)\n",
    "        fig, ax = plt.subplots()\n",
    "        ax.plot(numpy.tile(temperature, (self.n_stages, 1)).T, pops[:, 0].T, 'b-')\n",
    "        n_levels = self.chi.shape[1]\n",
    "        if n_levels > 1:\n",
    "            ax.plot(numpy.tile(temperature, (self.n_stages, 1)).T, pops[:, 1].T, 'r--')\n",
    "        if n_levels > 2:\n",
    "            ax.plot(numpy.tile(temperature, (self.n_stages, 1)).T, pops[:, 2].T, 'k:')\n",
    "        ax.set_yscale('log')\n",
    "        ax.set_ylim(1e-8, 1.1)\n",
    "        ax.set_xlabel('Temperature (K)')\n",
    "        ax.set_ylabel('Populations')"
   ]
  },
  {
   "cell_type": "code",
   "execution_count": 4,
   "metadata": {},
   "outputs": [
    {
     "data": {
      "text/latex": [
       "$[[1.1688748,~3.4597805,~13.627235],~\n",
       " [2.1988903,~3.5523098,~6.7052291],~\n",
       " [1,~1,~1.0000108],~\n",
       " [4.8153548,~5.2769924,~5.5981683],~\n",
       " [6.9135698,~8.0815264,~9.646536],~\n",
       " [2,~2,~2]] \\; \\mathrm{}$"
      ],
      "text/plain": [
       "<Quantity [[ 1.16887479,  3.45978054, 13.62723508],\n",
       "           [ 2.19889031,  3.55230978,  6.70522905],\n",
       "           [ 1.        ,  1.        ,  1.00001079],\n",
       "           [ 4.8153548 ,  5.2769924 ,  5.59816828],\n",
       "           [ 6.91356975,  8.0815264 ,  9.64653602],\n",
       "           [ 2.        ,  2.        ,  2.        ]]>"
      ]
     },
     "execution_count": 4,
     "metadata": {},
     "output_type": "execute_result"
    }
   ],
   "source": [
    "T = numpy.array([5000, 10000, 20000]) * units.K\n",
    "Ca_atom = Atom(\"Ca_atom.txt\")\n",
    "Ur_Ca = Ca_atom.compute_partition_function(T)\n",
    "Ur_Ca"
   ]
  },
  {
   "cell_type": "markdown",
   "metadata": {},
   "source": [
    "Above one can see the partition function for each of the temperatures 5000 K, 10000 K and 20000 K. Since we extract six ionisation stages from the `Ca_atom.txt`-file we obtain six arrays of three elements each (one for each temperature). Since we see that the difference between the partition function for different temperatures is big, we can conclude that there is a strong temperature dependence. However, if we take a look at the expession for the partition function \n",
    "\n",
    "\\begin{equation}\n",
    "U_r = \\sum_s g_{r,s}e^{-\\chi_{r,s}/k_BT}\n",
    "\\end{equation}\n",
    "\n",
    "it becomes clear that the partition function will gradually flatten out for increasing temperatures. That is because the temperature dependence drops away as $T\\to\\infty$ so that $e^{-\\chi_{r,s}/k_BT}\\to 1$ making the partition function approach a constant value of $U_r \\to \\sum_s g_{r,s}$. We can also see this by choosing a finer temperaute grid and plot the partition function for each ionisation stage $r$ as a function of the temperature. This is seen below."
   ]
  },
  {
   "cell_type": "code",
   "execution_count": 5,
   "metadata": {},
   "outputs": [
    {
     "data": {
      "application/vnd.jupyter.widget-view+json": {
       "model_id": "377a5aaeebd44f7ca6e7a3945a0fdd0b",
       "version_major": 2,
       "version_minor": 0
      },
      "text/plain": [
       "Canvas(toolbar=Toolbar(toolitems=[('Home', 'Reset original view', 'home', 'home'), ('Back', 'Back to previous …"
      ]
     },
     "metadata": {},
     "output_type": "display_data"
    },
    {
     "data": {
      "text/plain": [
       "<matplotlib.legend.Legend at 0x7f55f05c8320>"
      ]
     },
     "execution_count": 5,
     "metadata": {},
     "output_type": "execute_result"
    }
   ],
   "source": [
    "T = numpy.linspace(5000, 1e6, 100000) * units.K\n",
    "Ur_Ca = Ca_atom.compute_partition_function(T)\n",
    "\n",
    "fig, ax = plt.subplots()\n",
    "for r in range(len(Ur_Ca[:,0])):\n",
    "    ax.plot(T, Ur_Ca[r, :], label = r\"$U_%d$\" %(r + 1))\n",
    "ax.set_xlabel(r\"$T$ [kK]\")    \n",
    "ax.set_ylabel(r\"$U_r(T)$\")\n",
    "plt.legend(loc = 0)"
   ]
  },
  {
   "cell_type": "markdown",
   "metadata": {},
   "source": [
    "We can clearly see that each partition function starts out growing for each $r$, but flattens out as the temperature increases to high values."
   ]
  },
  {
   "cell_type": "markdown",
   "metadata": {},
   "source": [
    "Next, in the following cell a small script calling upon the `Atom`-class is shown, used to plot Payne curves fr both the provided Ca and He atoms. In order to illustrate the levels of the He atom we did some minor changes to the axis scaling in the `Atom`-class. "
   ]
  },
  {
   "cell_type": "code",
   "execution_count": 6,
   "metadata": {},
   "outputs": [
    {
     "data": {
      "application/vnd.jupyter.widget-view+json": {
       "model_id": "036178092a974db4b01fc13bebf0baf1",
       "version_major": 2,
       "version_minor": 0
      },
      "text/plain": [
       "Canvas(toolbar=Toolbar(toolitems=[('Home', 'Reset original view', 'home', 'home'), ('Back', 'Back to previous …"
      ]
     },
     "metadata": {},
     "output_type": "display_data"
    },
    {
     "data": {
      "application/vnd.jupyter.widget-view+json": {
       "model_id": "5a48801708b34f8cb9dfe8e21a2d57b8",
       "version_major": 2,
       "version_minor": 0
      },
      "text/plain": [
       "Canvas(toolbar=Toolbar(toolitems=[('Home', 'Reset original view', 'home', 'home'), ('Back', 'Back to previous …"
      ]
     },
     "metadata": {},
     "output_type": "display_data"
    }
   ],
   "source": [
    "Temp = numpy.linspace(0.1, 175.0, int(1e4)) * 1e3 * units.K\n",
    "Pres_e = units.Quantity(100, unit = \"Pa\")\n",
    "\n",
    "Ca_atom.plot_payne(Temp, Pres_e)\n",
    "\n",
    "He_atom = Atom(\"He_atom.txt\")\n",
    "He_atom.plot_payne(Temp, Pres_e)"
   ]
  },
  {
   "cell_type": "markdown",
   "metadata": {},
   "source": [
    "By running the above code cell we produce two plots; the top-most showing six stages of Ca with corresponding levels, and the bottom-most showing three stages of He with corresponding levels. We can immediately see that the Ca-atom allways has a higher population of atoms in exited states seen by the dotted and dashed lines reaching further up. Also we see that He, only having three stages; He I, He II and HeIII, has all its possible stages represented. Therewhile the Ca atom only shows six (Ca I - Ca V) of its 21 possible stages (which are probably quite hard to find when searching for the higher stages). Another difference to note is that it seems as if He II reaches its population peak at arround 25 kK, while at the same temperature Ca III also reaches its population peak. This may suggest that it is a bit easier to ionize Ca one stage higher than it is to ionize He to the same stage."
   ]
  },
  {
   "cell_type": "markdown",
   "metadata": {},
   "source": [
    "## 1.4 Saha-Boltzmann Populations of Hydrogen\n",
    "\n",
    "* Using equations (4) and (5), create a model hydrogen atom with 100 levels and save it to a file with the same format. Compute the partition functions for both `H_atom.txt` and your 100-level model. How do they compare?"
   ]
  },
  {
   "cell_type": "markdown",
   "metadata": {},
   "source": [
    "In the code cell below we show how we create a hydrogen model with 100 levels in the ground state in addition to the ionised stage (see `H_model.dat` file), similar to the model provided. For this we use the earlier implemented code calculating $g_{r,s}$ and $\\chi_{r,s}$. The partition functions for both the created and provided models are then calculated using the `Atom`-class."
   ]
  },
  {
   "cell_type": "code",
   "execution_count": 7,
   "metadata": {},
   "outputs": [
    {
     "name": "stdout",
     "output_type": "stream",
     "text": [
      "U_r for provided H atom: \n",
      "[[2.         2.00009774 2.08301843]\n",
      " [1.         1.         1.        ]]\n",
      "U_r for 100-level H atom: \n",
      "[[  2.00000001   2.09541736 256.03258146]\n",
      " [  1.           1.           1.        ]]\n"
     ]
    },
    {
     "name": "stderr",
     "output_type": "stream",
     "text": [
      "WARNING: AstropyDeprecationWarning: H_model.dat already exists. Automatically overwriting ASCII files is deprecated. Use the argument 'overwrite=True' in the future. [astropy.io.ascii.ui]\n"
     ]
    }
   ],
   "source": [
    "T = numpy.array([5000, 10000, 20000]) * units.K\n",
    "s = numpy.arange(1, 102, 1)\n",
    "r = numpy.zeros_like(s)\n",
    "\n",
    "r[-1] = 1\n",
    "chi_arr = chi(s).to(\"1 / cm\", equivalencies = units.spectral())\n",
    "chi_arr[-1] = (13.598 * units.eV).to(\"1 / cm\", equivalencies = units.spectral())\n",
    "g_arr = g(s)\n",
    "g_arr[-1] = 1\n",
    "s[-1] = 1\n",
    "ascii.write([chi_arr, g_arr, r, s - 1], \"H_model.dat\",\n",
    "            formats = {'# E (cm^-1)': '%10.3f', 'g': '%10.3f', 'stage': '%10.d', 'level': '%10.d'}, \n",
    "            names = ['# E (cm^-1)', 'g', 'stage', 'level'], \n",
    "            format='fixed_width', bookend = False, delimiter = None)\n",
    "\n",
    "H_atom = Atom(\"H_atom.txt\")\n",
    "H_model_100 = Atom(\"H_model.dat\")\n",
    "\n",
    "Ur_H = H_atom.compute_partition_function(T)\n",
    "Ur_H_model = H_model_100.compute_partition_function(T)\n",
    "print(\"U_r for provided H atom: \")\n",
    "print(Ur_H)\n",
    "print(\"U_r for 100-level H atom: \")\n",
    "print(Ur_H_model)\n"
   ]
  },
  {
   "cell_type": "markdown",
   "metadata": {},
   "source": [
    "Calculating and print out the partition functions $U_r$ for the provided Hydrogen atom model data in `H_atom.txt` and the calculated 100-level Hydrogen atom model saved in the `H_model.dat`-file, we see that they behave quite similar for low temperatures. At low temperatures (5000 K) both $U_1 = 2$ and $U_2 = 1$. for each model. However, when increasing the temperature to 10000 K we start to notice that $U_1$ remains close to $U_1 \\approx 2$ for the provided model and approaches $U_1 = 2.1$ for the calculated level 100-level model. Increasing the temperature even more to 20000 K, we see the differences become very evident. Now the partition function $U_1 \\approx 2.1$ for the provided model, while the calculated model results in $U_1 \\approx 260$, which is a change in order of magnitude by about 2. The Partition function for the first ionisation stage , however remain at $U_2 = 1$ for both models. To answer why the partition functions for the two neutral hydrogen models behave so differently at high temperaures, we need to take a look at the expression for the partition function again: \n",
    "$$\n",
    "U_r = \\sum_{s = 1}^{n} g_{r,s} e^{-\\chi_{r,s}/k_BT}.\n",
    "$$\n",
    "Now, in the provided model we only have five levels in the neutral stage of hydrogen. Therefore the upper limit of the sum is simply $n=5$, while we have 100 levels in the calculated model giving $n=100$. At temperatures below 10000 K, the exponential factor provides a weight for the $g_{r,s}$'s in such a way that they fall of quickly as $s$ increases, making the first few terms dominant. Since the first terms are the same in both models the sum will of course be close to equal. If we look at high temperaures, like 20000 K or more, $e^{-\\chi_{r,s}/k_BT}\\to 1$ because the $\\chi_{r,s}$'s can at most approach 13.598 eV (ionisation energy of hydrogen), while the temperaure is high. We therefore lose the temperature dependence at high $T$, so that $U_r\\to\\sum_s g_{r,s}$. Because we have 5 elements in the provided model and 100 elements in the calculated model, it is no wonder that the calculated model results in a higher partition function for high temperatures. Therewhile, since we in both models only have one level for the ionisation state of hydrogen, the partition function for each model will always be equal, for any temperaure. "
   ]
  },
  {
   "cell_type": "code",
   "execution_count": null,
   "metadata": {},
   "outputs": [],
   "source": []
  },
  {
   "cell_type": "markdown",
   "metadata": {},
   "source": [
    "## 1.5 Solar Ca$^+$K versus H$\\alpha$: line strength\n",
    "\n",
    "* Explain qualitatively why the solar Ca$^+$ K line is much stronger than the solar H$\\alpha$ line, even though hydrogen is not ionised in the solar photosphere and low chromosphere ($T \\approx$ 4000 - 6000 K) where these lines are formed, and even though the solar Ca/H abundance ratio is only $N_\\mathrm{Ca}/N_\\mathrm{H} = 2 \\times 10^{−6}$. Assume again that the observed line strength scales with the lower-level population density (which it does, although nonlinearly through a \"curve of growth\" as you will see in an exercise below).\n",
    "\n",
    "* Prove your explanation by computing and plotting the expected strength ratio of these two lines as function of temperature for $P_e = 10^2$ dyne cm$^{-2}$. Make use of `H_atom.txt` and `Ca_atom.txt`.\n"
   ]
  },
  {
   "cell_type": "markdown",
   "metadata": {},
   "source": [
    "If we assume Paynes assumption is true, the relative line strength of Ca$^+$ K with respect to the H$\\alpha$ line should scale about propotionally to the ration between the populations of the lower level of the two transitions. However, we also need to take the abundance ratio into account, as there is way more hydrogen in the Sun than Ca. The relative line strength is the ratio between the total number of Ca and H; $\\frac{n_{Ca^+K}N_{Ca}}{n_{H\\alpha}N_{H}} = \\frac{n_{Ca^+K}}{n_{H\\alpha}} \\cdot 2\\cdot 10^{-6}$, where we multiply each lower level population with the total number density of the corresponding atom to transform the populations fraction into a total number fraction. Now, we see that this realtive line strength will depend strongly on the population ratio. For the Ca$^+$ K line to be stronger than the $H\\alpha$ line we thus need $\\frac{n_{Ca^+K}N_{Ca}}{n_{H\\alpha}N_{H}} > 1$, which happens if the population fraction is greater than the inverse relative abundance $2\\cdot10^{6}$. The population fraction $\\frac{n_{Ca^+K}}{n_{H\\alpha}}$ will actually be very large. That is due to Ca I having a relatively low ionisation energy, making a lot of the Ca atoms ionised to the first ionisation stage due to the relatively high temperatures $4000-6000$ K. Since the Ca$^+$ K line is a ground state transition having a relatvely high population, while H$\\alpha$ is an exitation transition with a relatively low population, the population fraction  of the two latter will be very large. Thus the Ca$^+$ K line is stronger than the H$\\alpha$ line."
   ]
  },
  {
   "cell_type": "code",
   "execution_count": 8,
   "metadata": {},
   "outputs": [
    {
     "data": {
      "application/vnd.jupyter.widget-view+json": {
       "model_id": "1436c3c3c8e24020ad3d4a6b584ccc36",
       "version_major": 2,
       "version_minor": 0
      },
      "text/plain": [
       "Canvas(toolbar=Toolbar(toolitems=[('Home', 'Reset original view', 'home', 'home'), ('Back', 'Back to previous …"
      ]
     },
     "metadata": {},
     "output_type": "display_data"
    },
    {
     "data": {
      "text/plain": [
       "Text(0, 0.5, 'Realtive line strength ratio')"
      ]
     },
     "execution_count": 8,
     "metadata": {},
     "output_type": "execute_result"
    }
   ],
   "source": [
    "T = numpy.linspace(4000, 6000, 1000) * units.K\n",
    "P_e = (100 * units.dyne / units.cm ** 2).to(\"Pa\")\n",
    "Ca_pops = Ca_atom.compute_populations(T, P_e)\n",
    "H_pops = H_atom.compute_populations(T, P_e)\n",
    "rel_abund = 2e-6\n",
    "rel_line_strength = Ca_pops[1, 0] / H_pops[0, 1] * rel_abund\n",
    "fig, ax = plt.subplots()\n",
    "ax.semilogy(T, rel_line_strength, label = r\"$\\frac{n_{Ca^+K}}{n_{H\\alpha}}\\cdot2\\cdot10^{-6}$\")\n",
    "ax.semilogy(T, numpy.ones_like(T) / units.K, label = r\"$\\frac{n_{Ca^+K}}{n_{H\\alpha}}=2\\cdot10^{6}$\")\n",
    "ax.legend(loc = 0)\n",
    "ax.set_xlabel(r\"$T$ [K]\")\n",
    "ax.set_ylabel(r\"Realtive line strength ratio\")\n"
   ]
  },
  {
   "cell_type": "markdown",
   "metadata": {},
   "source": [
    "Now we see that when calculating the quantitiy $\\frac{n_{Ca^+K}}{n_{H\\alpha}} \\cdot 2\\cdot 10^{-6}$ representing the relative line strengths of the two lines of intrest as a function of temperrature $T$. We see that for the temperature range 4000 - 6000 K this quantity is always greater than 1 (corresponding to the ratio where the Ca$^+$ K  line is as strong as the H$\\alpha$ line, illustrated by the orange line in the plot), meaning the population ratio is alsways much higher than $\\frac{n_{Ca^+K}}{n_{H\\alpha}}$ the relative abundance ratio inverse ($2\\cdot 10^{6}$). The Ca II K line is thus much stronger than the H$\\alpha$ line."
   ]
  },
  {
   "cell_type": "markdown",
   "metadata": {},
   "source": [
    "## 1.6 Solar Ca$^+$K versus H$\\alpha$: temperature sensitivity\n",
    "\n",
    "* Plotting the relative population changes $(\\Delta n_\\mathrm{Ca} / \\Delta T) / n_\\mathrm{Ca}$ and $(\\Delta n_\\mathrm{H} /  \\Delta T) / n_\\mathrm{H}$ for the lower levels of Ca$^+$K and H$\\alpha$, using $\\Delta T=$ 1 K.\n",
    "\n",
    "* Around $T=$ 5600 K the Ca$^+$K curve dips down to very  small values; the H$\\alpha$ curve does that around $T=$ 9500  K. Thus, for $T \\approx$ 5600 K the temperature sensitivity of Ca$^+$K is much smaller than the temperature sensitivity of H$\\alpha$. Each dip has a $\\Delta n > 0$ and a $\\Delta n < 0$ flank.  Which is which? (The dips can be diagnosed by overplotting the variation with temperature of each population in relative units.) \n",
    "\n",
    "* Explain each flank of the two population curves and the dips in the two temperature sensitivity curves.\n",
    "\n",
    "* Find at which temperature the hydrogen in stellar photospheres with $P_e =$ 10 Pa is about 50% ionised. Plot the neutral and ionised fractions of hydrogen as a function of temperature."
   ]
  },
  {
   "cell_type": "markdown",
   "metadata": {},
   "source": [
    "In the cell below we calculate and plot the relative population changes and the relative population as functions of temperature."
   ]
  },
  {
   "cell_type": "code",
   "execution_count": 9,
   "metadata": {},
   "outputs": [
    {
     "data": {
      "application/vnd.jupyter.widget-view+json": {
       "model_id": "18c7487b6d3f4513be1b6b6de596d5fd",
       "version_major": 2,
       "version_minor": 0
      },
      "text/plain": [
       "Canvas(toolbar=Toolbar(toolitems=[('Home', 'Reset original view', 'home', 'home'), ('Back', 'Back to previous …"
      ]
     },
     "metadata": {},
     "output_type": "display_data"
    }
   ],
   "source": [
    "dT = 1 * units.K\n",
    "P_e = 10 * units.Pa\n",
    "T = numpy.linspace(2000, 12000, 1000) * units.K\n",
    "\n",
    "Ca_atom = Atom(\"Ca_atom.txt\")\n",
    "n_Ca1 = Ca_atom.compute_populations(T, P_e)[1, 0]\n",
    "n_Ca2 = Ca_atom.compute_populations(T - dT, P_e)[1, 0]\n",
    "Ca_diff = (n_Ca1 - n_Ca2) / (dT * n_Ca1)\n",
    "\n",
    "H_atom = Atom(\"H_atom.txt\")\n",
    "n_H1 = H_atom.compute_populations(T, P_e)[0, 1]\n",
    "n_H2 = H_atom.compute_populations(T - dT, P_e)[0, 1]\n",
    "H_diff = (n_H1 - n_H2) / (dT * n_H1)\n",
    "\n",
    "fig, ax = plt.subplots(nrows = 2)\n",
    "ax[0].plot(T, numpy.abs(H_diff), label = r\"H$\\alpha$\")\n",
    "ax[0].plot(T, numpy.abs(Ca_diff), label = r\"Ca$^+$K\")\n",
    "ax[0].set_ylabel(r\"$(\\Delta n_i / \\Delta T) / n_i$\")\n",
    "#ax[0].set_xlim([1.5, 15.5])\n",
    "ax[0].set_yscale(\"log\")\n",
    "ax[0].legend()\n",
    "ax[0].grid()\n",
    "\n",
    "ax[1].plot(T, n_H1 / n_H1.max(), \"--\", label = r\"H$\\alpha$\")\n",
    "ax[1].plot(T, n_Ca1 / n_Ca1.max(), \"--\", label = r\"Ca$^+$K\")\n",
    "ax[1].set_yscale(\"log\")\n",
    "ax[1].legend()\n",
    "ax[1].set_ylabel(\"Realtive populations\")\n",
    "ax[1].set_xlabel(\"Temperature (K)\")\n",
    "ax[1].grid()"
   ]
  },
  {
   "cell_type": "markdown",
   "metadata": {},
   "source": [
    "We see from the above plot of the relative population changes that the graph for Ca$^+$K has a dip at about $5600$ K and the H$\\alpha$ curve har a dip at about $9500$ K. If in addition to that look at the second plot, showing the realtive population (normalized by each lines maximum) of each lines, we see that the dips in the first plot seem to correspond to the peak of the two curves. Seen from each peak we see that the graphs have a positive slope when approaching the peak from the right and a negative slope when going from the peak and towards higher temperatures. Thus the change in population $\\Delta n<0$ to the right of the peak and thus the dip in the population change plot and similarly the change $\\Delta n> 0$ to the left of the peak/dip."
   ]
  },
  {
   "cell_type": "markdown",
   "metadata": {},
   "source": [
    "The reason the relative population is growing quite rapidly before the dips/peaks is that exitation becomes more and more likely for increasing temperature. However, since the slope of the relative population deacreases when approaching the peak, the sensitivety plot decreases. At some point we reach the peak of the relative population, making $n_i/n_{max} = 1$ as large as it can be, while the slope flattens completely out. Thus the sensitivety $\\frac{1}{n_i}\\frac{\\Delta n}{\\Delta T}$ becomes very small fast, resulting in a dip in the sensitivety plot. Thereafter the relative population deacreases very slowly, making the slope dependent sensitivety plot almost flatten out. \n",
    "\n",
    "The reason we get dips in the sensitivety plot at the same temperature as we get peaks in the population plot, is due to ionisation suddenly becoming dominant. As meansion earlier, when increasing the temperature exitation becomes more likely, however, at some point more and more ionisation will happen until there is more ionised atoms than neutral atoms. At the temperature where there is about as much ions as neutral atoms, the population of the neutral atoms in exited states will be at their maximum, as more exited atoms are ionised thus stopping the increase of the population of exited atoms. Thereafter the exited atom fraction will slowly decrease as ionisation fully takes over and the neutral stages become fully depleted."
   ]
  },
  {
   "cell_type": "code",
   "execution_count": 10,
   "metadata": {},
   "outputs": [
    {
     "data": {
      "application/vnd.jupyter.widget-view+json": {
       "model_id": "1c96970fd00b4bde8b8cd977235a411b",
       "version_major": 2,
       "version_minor": 0
      },
      "text/plain": [
       "Canvas(toolbar=Toolbar(toolitems=[('Home', 'Reset original view', 'home', 'home'), ('Back', 'Back to previous …"
      ]
     },
     "metadata": {},
     "output_type": "display_data"
    }
   ],
   "source": [
    "T = numpy.linspace(2, 14, int(1e4)) * 1e3 * units.K\n",
    "P_e = 10 * units.Pa\n",
    "H_atom = Atom(\"H_atom.txt\")\n",
    "H_pops = H_atom.compute_populations(T, P_e)\n",
    "H_atom.plot_payne(T, P_e)\n"
   ]
  },
  {
   "cell_type": "markdown",
   "metadata": {},
   "source": [
    "Following this approach there should be about 50% ionised atoms at the same temperature we see the dips in the sensitivety plot. For hydrogen this happens at about $T\\approx 9500$ K."
   ]
  },
  {
   "cell_type": "markdown",
   "metadata": {},
   "source": [
    "## 2. Fraunhofer line strengths and the curve of growth (\"Marcel Minnaert\")\n",
    "\n",
    "    \n",
    "### 2.1 The Planck law\n",
    "\n",
    "* Plot the Planck function $B_\\lambda$ for 100 $< \\lambda <$ 2000 nm for a range of temperatures (5000 to 8000 K). Use a log scale for both the x and y axes. Explain the slopes of the righthand part."
   ]
  },
  {
   "cell_type": "code",
   "execution_count": 11,
   "metadata": {},
   "outputs": [
    {
     "data": {
      "application/vnd.jupyter.widget-view+json": {
       "model_id": "dde23a1bd038465daeaef5f618d98033",
       "version_major": 2,
       "version_minor": 0
      },
      "text/plain": [
       "Canvas(toolbar=Toolbar(toolitems=[('Home', 'Reset original view', 'home', 'home'), ('Back', 'Back to previous …"
      ]
     },
     "metadata": {},
     "output_type": "display_data"
    }
   ],
   "source": [
    "from astropy.modeling.blackbody import blackbody_lambda\n",
    "i_units = \"kW m-2 sr-1 nm-1\"  # More practical SI units\n",
    " \n",
    "wave = numpy.linspace(100, 2000, 10000) * units.nm\n",
    "temp = numpy.linspace(5000, 8000, 15) * units.K\n",
    "\n",
    "# Extend wave and temp to calculate blackbody radiation all at once\n",
    "radiation = blackbody_lambda(wave[:, numpy.newaxis], temp[numpy.newaxis])\n",
    "\n",
    "fig, ax = plt.subplots()\n",
    "custom_cycler = cycler('color', cm.plasma(numpy.linspace(0, 1, len(temp))))\n",
    "ax.set_prop_cycle(custom_cycler)  # optional, change default colours of plots\n",
    "ax.loglog(wave, radiation.to(i_units));"
   ]
  },
  {
   "cell_type": "markdown",
   "metadata": {},
   "source": [
    "The slope on the r.h.s. of the blackbody sepectra seems to be decreasing linearly as we reach large wavelengths $\\lambda$. To see why this happends we take a look at the expression for $B_\\lambda(T)$ for large $\\lambda$. When $\\lambda$ grows we see that the fraction $\\frac{hc}{\\lambda kT}\\ll 1$ at some point. Thus we can approximate $\\exp\\left(\\frac{hc}{\\lambda kT}\\right) \\approx 1 + \\frac{hc}{\\lambda kT}$ to first order. The blackbody spectrum then becomes $B_\\lambda \\approx \\frac{2hc^2}{\\lambda^5}\\frac{1}{e^{\\frac{hc}{\\lambda kT}} - 1} \\approx \\frac{2hc^2}{\\lambda^5}\\frac{1}{\\frac{hc}{\\lambda kT}}\\propto \\lambda^{-4}$. Thus for high $\\lambda$, $B_\\lambda$ has a constant slope approaching -4 in a logarithmic plot."
   ]
  },
  {
   "cell_type": "markdown",
   "metadata": {},
   "source": [
    "### 2.2 Radiation through an isothermal layer\n",
    "\n",
    "* Use equation (11) to calculate the radiation through an isothermal layer. Make plots of $I_\\lambda$ for the different values of $I_\\lambda(0)$, using the following values:\n",
    "\n",
    "``` python\n",
    "b_lambda = 2\n",
    "tau = numpy.logspace(-2, 1, 100)\n",
    "i0 = numpy.arange(5)\n",
    "```\n",
    "    \n",
    "* How does $I_\\lambda$ depend on $\\tau$ for $\\tau \\ll 1$ when $I_\\lambda(0) =0$ (hint: use a log scale in the x and y axes to study the behavior at small $\\tau$)?  And when $I_\\lambda(0) > B_\\lambda$? Such a layer with $\\tau \\ll 1$ is called \"optically thin\", why? Would \"radiatively thin\" be a better name?\n",
    " \n",
    "* A layer is called \"optically thick\" when it has $\\tau \\gg 1$. Why? The emergent intensity becomes independent of $\\tau$ for large $\\tau$. Can you explain why this is so in physical terms? "
   ]
  },
  {
   "cell_type": "code",
   "execution_count": 12,
   "metadata": {},
   "outputs": [
    {
     "data": {
      "application/vnd.jupyter.widget-view+json": {
       "model_id": "2352bd5e3a1a43e9bdec7afbbd191d66",
       "version_major": 2,
       "version_minor": 0
      },
      "text/plain": [
       "Canvas(toolbar=Toolbar(toolitems=[('Home', 'Reset original view', 'home', 'home'), ('Back', 'Back to previous …"
      ]
     },
     "metadata": {},
     "output_type": "display_data"
    },
    {
     "data": {
      "text/plain": [
       "<matplotlib.legend.Legend at 0x7f55eef79828>"
      ]
     },
     "execution_count": 12,
     "metadata": {},
     "output_type": "execute_result"
    }
   ],
   "source": [
    "def I_lambda(tau, b_lambda, i0):\n",
    "    exp_tau = numpy.exp(-tau)\n",
    "    return (i0 * exp_tau[:, numpy.newaxis] \n",
    "            + b_lambda * (1 - exp_tau[:, numpy.newaxis]))\n",
    "b_lambda = 2\n",
    "tau = numpy.logspace(-2, 1, 100)\n",
    "i0 = numpy.arange(0, 5, 1)\n",
    "\n",
    "I_lamb = I_lambda(tau, b_lambda, i0)\n",
    "fig, ax = plt.subplots()\n",
    "custom_cycler = cycler('color', cm.plasma(numpy.linspace(0, 1, len(i0))))\n",
    "ax.set_prop_cycle(custom_cycler)  # optional, change default colours of plots\n",
    "ax.loglog(tau, I_lamb)\n",
    "ax.set_xlabel(r\"$\\tau$\")\n",
    "ax.set_ylabel(r\"$I_\\lambda$\")\n",
    "ax.legend([r\"$I(0) = %d$\" %i for i in i0])\n"
   ]
  },
  {
   "cell_type": "markdown",
   "metadata": {},
   "source": [
    "Taking a look at the expression for $I_\\lambda = I_\\lambda(0) e^{-\\tau} + B_\\lambda (1-e^{-\\tau})$, we see that it for $I_\\lambda(0) = 0$, corresponding to no incoming radiation, and an optical depth $\\tau \\ll 1$ becomes $I_\\lambda \\approx B_\\lambda(1-1 + \\tau) = B_\\lambda\\tau$. Here we expanded the exponential function to the first order. Since we for $\\tau \\ll 1$ have a direct proportionallity $I_\\lambda \\propto \\tau$, we expect a linear curve with slope +1 if a log-log scale is used. And indeed this happens, as is seen in the topmoset plot produced by the code cell above. In a case where $I_\\lambda (0)>B_\\lambda$ the slope of the graph at $\\tau\\ll1$ is close to zero in a log-log scale (see second plot produced by the above code cell). That is because not much is absorbed by the slab since $\\tau\\ll1$ and since $I_\\lambda>B_\\lambda$ little is added due to blackbody radiation in the slab itself. Thus the incident and exident rays have essentially equal intensity. Since the light passes through the slab almost unchanged we call the slab optically thin. The term \"radiatively thin\" would probably be a better term than \"optically thin\", since optical radiation is only the small visible part of the electromagnetic spectrum, while \"radiativ thickness\" can be generalized for all wavelengths. "
   ]
  },
  {
   "cell_type": "markdown",
   "metadata": {},
   "source": [
    "Next we consider the opposite case $\\tau\\gg1$. In this case the slab is called optically thick. Optical thickness is defined in such a case that $\\tau = 1$ corresponds to the emergent ray being reduced in intensity by a factor $1/e$. So if $\\tau\\gg1$, a lot of intensity of the insident ray is lost, essentially being totally extinguished. It is thus a \"thick\" medium seen from the lights perspective. Also if radiation is emmited due to blackbody radiation inside the slab itself, the radiation does not reach the surface since it is absorbed before reaching out. Thus the only part of the slab contributing to the emergent ray's intensity $I_\\lambda$ is the blackbody radiation $B_\\lambda$ at the very surface of the slab. The slab is then totally opaque, since all radiation from behind is extinct, making the only radiation recieved behind the slab equal to the surface of the slab's blackbody (in our case being source) function; $I_\\lambda = B_\\lambda$. "
   ]
  },
  {
   "cell_type": "code",
   "execution_count": null,
   "metadata": {},
   "outputs": [],
   "source": []
  },
  {
   "cell_type": "markdown",
   "metadata": {},
   "source": [
    "## 2.3 Spectral lines from a solar reversing layer\n",
    "\n",
    "\n",
    "### 2.3.1 Schuster-Schwarzschild model\n",
    "\n",
    "### 2.3.2 Voigt profile\n",
    "\n",
    "### 2.3.3 Emergent line profiles\n",
    "\n",
    "* Compute and plot the emergent line profiles using a Schuster-Schwarzschild model, using the code provided. Try changing the parameters (`temp_surface`, `temp_layer`, `a`, `tau0`) to see if you can obtain a saturated line profile (flat bottom). Which parameter(s) are more important in determining this?\n",
    "\n",
    "* Make a plot of line profiles with different $\\tau_0$, using `tau0 = 10 ** numpy.linspace(-2, 2, 9)`. How do you explain the profile shapes for $\\tau(0) \\ll 1$? Why is there a low-intensity saturation limit for $\\tau \\gg 1$? Why do the line wings develop only for very large $\\tau(0)$? Where do the wings end? For which values of $\\tau(0)$ is the layer optically thin, respectively optically thick, at line center? And at $u=5$?\n",
    "\n",
    "* Now study the dependence of these line profiles on wavelength by repeating the above for $\\lambda=$ 200 nm (ultraviolet) and $\\lambda=$ 1000 nm (near infrared). What sets the top value $I_{\\rm cont}$ and the limit value reached at line center by $I(0)$? Check these values by computing them directly. What happens to these values at other wavelengths?  \n",
    "\n",
    "* Make a figure with plots for the above: line profiles for several values of $\\tau_0$, and the three different wavelengths (200, 500, and 1000 nm). However, normalise each line profile by its continuum intensity: `intensity /= intensity[0]` (observed spectra are usually normalised this way because absolute calibrations are often missing). Explain the wavelength dependencies in this plot."
   ]
  },
  {
   "cell_type": "code",
   "execution_count": 13,
   "metadata": {},
   "outputs": [],
   "source": [
    "from scipy.special import wofz\n",
    "\n",
    "def voigt(damping, u):\n",
    "    \"\"\"\n",
    "    Calculates the Voigt function.\n",
    "    \"\"\"\n",
    "    z = (u + 1j * damping)\n",
    "    return wofz(z).real\n"
   ]
  },
  {
   "cell_type": "code",
   "execution_count": 14,
   "metadata": {},
   "outputs": [
    {
     "data": {
      "application/vnd.jupyter.widget-view+json": {
       "model_id": "d6a167d34b93492b94b9f1a6cc057589",
       "version_major": 2,
       "version_minor": 0
      },
      "text/plain": [
       "Canvas(toolbar=Toolbar(toolitems=[('Home', 'Reset original view', 'home', 'home'), ('Back', 'Back to previous …"
      ]
     },
     "metadata": {},
     "output_type": "display_data"
    }
   ],
   "source": [
    "temp_surface = 5777 * units.K\n",
    "temp_layer = 4200 * units.K\n",
    "wave = units.Quantity(300, unit='nm')\n",
    "tau0 = numpy.array([10.])  # thickness of reversing layer\n",
    "\n",
    "a = .1  # Damping parameter\n",
    "u = numpy.linspace(-10, 10, 201)\n",
    "\n",
    "def compute_profile(tau0, a, u, wavelength):\n",
    "    wave = wavelength[numpy.newaxis, numpy.newaxis]\n",
    "    tau = tau0[numpy.newaxis] * voigt(a, u[:, numpy.newaxis])\n",
    "    tau = tau[..., numpy.newaxis]\n",
    "    result = (blackbody_lambda(wave, temp_surface) * numpy.exp(-tau) +\n",
    "              blackbody_lambda(wave, temp_layer) * (1 - numpy.exp(-tau)))\n",
    "    return numpy.squeeze(result)\n",
    "\n",
    "intensity = compute_profile(tau0, a, u, wave)\n",
    "\n",
    "fig, ax = plt.subplots()\n",
    "ax.plot(u, intensity.to(i_units));"
   ]
  },
  {
   "cell_type": "markdown",
   "metadata": {},
   "source": [
    "When plotting the emergent line profile using the Schuster-Schwarzschild model for different parameters `temp_surface`, `temp_layer`, `tau0` and `a`, it seems as if the parameter being the most important for saturation is `tau0`. When setting the value for `tau0` to about 5 or higher we see that the bottom of the curve starts flattening out and we reach saturation. The other parameters don't seem to change that much when it comes to the saturation. The parameter `a` only changes the width of the line profile, while the temperatures `temp_surface` and `temp_layer` only determine if the line is an absorbtion or emission line (\"flips\" the plot around the source function of the reversing layer's surface). When `temp_layer` $>$ `temp_surface`, more intensity (for the given $\\lambda$) originates in the layer than from at surface resulting in a net emission, as oppose to the opposite case where we have a net absorbtion. "
   ]
  },
  {
   "cell_type": "code",
   "execution_count": 15,
   "metadata": {},
   "outputs": [
    {
     "data": {
      "application/vnd.jupyter.widget-view+json": {
       "model_id": "01b72a6499ec4aedaba9de40ce661100",
       "version_major": 2,
       "version_minor": 0
      },
      "text/plain": [
       "Canvas(toolbar=Toolbar(toolitems=[('Home', 'Reset original view', 'home', 'home'), ('Back', 'Back to previous …"
      ]
     },
     "metadata": {},
     "output_type": "display_data"
    },
    {
     "data": {
      "text/plain": [
       "Text(0, 0.5, 'Intensity $I_\\\\lambda$ [kWnm$^{-1}$sr$^{-1}$m$^{-1}$]')"
      ]
     },
     "execution_count": 15,
     "metadata": {},
     "output_type": "execute_result"
    }
   ],
   "source": [
    "temp_surface = 5777 * units.K\n",
    "temp_layer = 4200 * units.K\n",
    "wave = units.Quantity(300, unit='nm')\n",
    "tau0 = 10 ** numpy.linspace(-2, 2, 9)  # thickness of reversing layer\n",
    "\n",
    "a = .1   # Damping parameter\n",
    "u = numpy.linspace(-10, 10, 201)\n",
    "labels = [r\"$\\tau_0$ = %.2g\"%t for t in tau0]\n",
    "def compute_profile(tau0, a, u, wavelength):\n",
    "    wave = wavelength[numpy.newaxis, numpy.newaxis]\n",
    "    tau = tau0[numpy.newaxis] * voigt(a, u[:, numpy.newaxis])\n",
    "    tau = tau[..., numpy.newaxis]\n",
    "    result = (blackbody_lambda(wave, temp_surface) * numpy.exp(-tau) +\n",
    "              blackbody_lambda(wave, temp_layer) * (1 - numpy.exp(-tau)))\n",
    "    return numpy.squeeze(result)\n",
    "\n",
    "intensity = compute_profile(tau0, a, u, wave)\n",
    "\n",
    "fig, ax = plt.subplots()\n",
    "ax.plot(u, intensity.to(i_units));\n",
    "ax.legend(labels)\n",
    "ax.set_xlabel(r\"Dimensionless wavelength $u$\")\n",
    "ax.set_ylabel(r\"Intensity $I_\\lambda$ [kWnm$^{-1}$sr$^{-1}$m$^{-1}$]\")"
   ]
  },
  {
   "cell_type": "markdown",
   "metadata": {},
   "source": [
    "The reason the curves for $\\tau(0)\\ll1$ are so flat (and in some cases almost constant) is that a low $\\tau(0)$ means a low absorbtion for dimensionless wavelength $u=0$. The smaller $\\tau(0)$ is, the less radiation is absorbed at $u=0$, making the bottom of the line profile less deep. Letting almost all radiation at $u=0$ passes the reversing layer making it radiatively thin. \n",
    "\n",
    "For $\\tau(0)\\gg1$ there is a low-intensity saturation limit, due to the layer now being optically thick, not letting the radiation at $u=0$ through the reversing layer. Thus the only radiation recieved at a detector would originate from blackbody radiation on the layer's surface, giving a lower intensity limit equal to the source function $S_\\lambda = B_\\lambda(T_{layer})$.\n",
    "\n",
    "As to why the emergent line-profile develops wings only at large $\\tau(0)$ we need to consider the expression for $I_\\lambda$. Due to $\\tau(u) = \\tau(0)V(a,u)$, the line profile is a mix between a Lorentzian and Gaussian formed dip due to the Voigt function $V(a,u)$. When increasing $\\tau(0)$ the bottom of the line-profile at some point hits the saturation limit suppressing the Gaussian part (centre region of the Voigt formed line profile) of the curve. Therewhile the Lorentzian part of $\\tau$ still grows making the wing section (which never end since the wings converge to the surface intensity $I_\\lambda = B_\\lambda(T_{surface})$) of the line profile deepen. \n",
    "\n",
    "We see that the three curves where $\\tau(0)$ is the biggest, meaning $\\tau(0) = 100$, $\\tau(0) \\approx 30$ and $\\tau(0) = 10$ the line is saturated at $u=0$, making it optically thick (see plot above). And similarly the lower values for $\\tau(0)$ make the line profile flatten out, making the intensity unchanged at the line centre $ I_\\lambda(0) \\approx B_\\lambda(T_{surface})$, resulting in an optical thin layer. This happens at for instance $\\tau(0) = 0.01$ and $\\tau(0) \\approx 0.03$ in the plot above. Anything in between saturation and a flattened curve is not strictily one or the other, but something in between (there is a smooth transition into each case of thickness). We see that at $u=5$ there is no saturated line profile. Thus to get an optically thick layer at $u=5$ we need to try even higher values for $\\tau(0)$ than the ones tested to reach saturation. However, most of the curves are quite flat an approximatelly equal to $B(T_{surface})$ thus letting the radiation through almost unchanged. The layer is thus quite optically thin at $u=5$ for most chosen $\\tau(0)$."
   ]
  },
  {
   "cell_type": "code",
   "execution_count": 16,
   "metadata": {},
   "outputs": [
    {
     "name": "stdout",
     "output_type": "stream",
     "text": [
      "lambda = 100 nm: \n",
      "I_cont:  0.00018 kW / (m2 nm sr) , I(0):  0.0 kW / (m2 nm sr)\n",
      "B_surf:  0.00018 kW / (m2 nm sr) , B_layer:  0.0 kW / (m2 nm sr)\n",
      "lambda = 200 nm: \n",
      "I_cont:  1.45434 kW / (m2 nm sr) , I(0):  0.01355 kW / (m2 nm sr)\n",
      "B_surf:  1.45435 kW / (m2 nm sr) , B_layer:  0.01355 kW / (m2 nm sr)\n",
      "lambda = 500 nm: \n",
      "I_cont:  26.35261 kW / (m2 nm sr) , I(0):  4.03688 kW / (m2 nm sr)\n",
      "B_surf:  26.35274 kW / (m2 nm sr) , B_layer:  4.03688 kW / (m2 nm sr)\n",
      "lambda = 1000 nm: \n",
      "I_cont:  10.76146 kW / (m2 nm sr) , I(0):  4.00446 kW / (m2 nm sr)\n",
      "B_surf:  10.7615 kW / (m2 nm sr) , B_layer:  4.00446 kW / (m2 nm sr)\n"
     ]
    },
    {
     "data": {
      "application/vnd.jupyter.widget-view+json": {
       "model_id": "13fe2710dc5b40989283da530f7f1dce",
       "version_major": 2,
       "version_minor": 0
      },
      "text/plain": [
       "Canvas(toolbar=Toolbar(toolitems=[('Home', 'Reset original view', 'home', 'home'), ('Back', 'Back to previous …"
      ]
     },
     "metadata": {},
     "output_type": "display_data"
    },
    {
     "data": {
      "text/plain": [
       "Text(0, 0.5, 'Normalized line profile')"
      ]
     },
     "execution_count": 16,
     "metadata": {},
     "output_type": "execute_result"
    }
   ],
   "source": [
    "temp_surface = 5777 * units.K\n",
    "temp_layer = 4200 * units.K\n",
    "wave0 = units.Quantity(100, unit = \"nm\")\n",
    "wave1 = units.Quantity(200, unit='nm')\n",
    "wave2 = units.Quantity(500, unit='nm')\n",
    "wave3 = units.Quantity(1000, unit='nm')\n",
    "tau0 = 10 ** numpy.linspace(-2, 2, 9)  # thickness of reversing layer\n",
    "\n",
    "a = .1   # Damping parameter\n",
    "u = numpy.linspace(-10, 10, 201)\n",
    "\n",
    "def compute_profile(tau0, a, u, wavelength):\n",
    "    wave = wavelength[numpy.newaxis, numpy.newaxis]\n",
    "    tau = tau0[numpy.newaxis] * voigt(a, u[:, numpy.newaxis])\n",
    "    tau = tau[..., numpy.newaxis]\n",
    "    result = (blackbody_lambda(wave, temp_surface) * numpy.exp(-tau) +\n",
    "              blackbody_lambda(wave, temp_layer) * (1 - numpy.exp(-tau)))\n",
    "    return numpy.squeeze(result)\n",
    "\n",
    "intensity0 = compute_profile(tau0, a, u, wave0)\n",
    "bb0_surf        = blackbody_lambda(wave0, temp_surface).to(i_units)\n",
    "bb0_layer        = blackbody_lambda(wave0, temp_layer).to(i_units)\n",
    "intensity1 = compute_profile(tau0, a, u, wave1)\n",
    "bb1_surf        = blackbody_lambda(wave1, temp_surface).to(i_units)\n",
    "bb1_layer        = blackbody_lambda(wave1, temp_layer).to(i_units)\n",
    "intensity2 = compute_profile(tau0, a, u, wave2)\n",
    "bb2_surf        = blackbody_lambda(wave2, temp_surface).to(i_units)\n",
    "bb2_layer        = blackbody_lambda(wave2, temp_layer).to(i_units)\n",
    "intensity3 = compute_profile(tau0, a, u, wave3)\n",
    "bb3_surf        = blackbody_lambda(wave3, temp_surface).to(i_units)\n",
    "bb3_layer        = blackbody_lambda(wave3, temp_layer).to(i_units)\n",
    "print(\"lambda = 100 nm: \")\n",
    "print(\"I_cont: \", intensity0[0, 0].to(i_units).round(5), \", I(0): \", numpy.min(intensity0).to(i_units).round(5))\n",
    "print(\"B_surf: \", bb0_surf.round(5), \", B_layer: \", bb0_layer.round(5))\n",
    "\n",
    "print(\"lambda = 200 nm: \")\n",
    "print(\"I_cont: \", intensity1[0, 0].to(i_units).round(5), \", I(0): \", numpy.min(intensity1).to(i_units).round(5))\n",
    "print(\"B_surf: \", bb1_surf.round(5), \", B_layer: \", bb1_layer.round(5))\n",
    "\n",
    "print(\"lambda = 500 nm: \")\n",
    "print(\"I_cont: \", intensity2[0, 0].to(i_units).round(5), \", I(0): \", numpy.min(intensity2).to(i_units).round(5))\n",
    "print(\"B_surf: \", bb2_surf.round(5), \", B_layer: \", bb2_layer.round(5))\n",
    "\n",
    "print(\"lambda = 1000 nm: \")\n",
    "print(\"I_cont: \", intensity3[0, 0].to(i_units).round(5), \", I(0): \", numpy.min(intensity3).to(i_units).round(5))\n",
    "print(\"B_surf: \", bb3_surf.round(5), \", B_layer: \", bb3_layer.round(5))\n",
    "\n",
    "fig, ax = plt.subplots()\n",
    "ax.semilogy(u, intensity1.to(i_units) / intensity1.to(i_units)[0] , \"r\")\n",
    "ax.semilogy(u, intensity2.to(i_units) / intensity2.to(i_units)[0] , \"b\")\n",
    "ax.semilogy(u, intensity3.to(i_units) / intensity3.to(i_units)[0], \"g\")\n",
    "ax.set_ylabel(\"Normalized line profile\")"
   ]
  },
  {
   "cell_type": "markdown",
   "metadata": {},
   "source": [
    "Next we calculate emergent line profiles unsing the same range of $\\tau(0)$ as in the previous point (`tau0 = 10 ** numpy.linspace(-2, 2, 9)`) but for several different wavelengths $\\lambda = 100, 200, 500, 1000$ nm. Since we know that the incident intensity equals the sourse function of the star's surface, being the Planck function $B_\\lambda(T_{surface})$ in this case, the incoming intensity is dependent on the surface temperature $T_{surface}$ and the wavelength $\\lambda$. Similarly, the bottom saturation limit on $I_\\lambda$ is equal to the Planck function of the surface of the isothermal layer $B_\\lambda(T_{layer})$, being determined by the layers temperature $T_{layer}$ and the wavelength $\\lambda$. To check whether this is true we compare $I_{cont}$ (the very first array element of $I_\\lambda$) to $B_\\lambda(T_{surface})$ and $I_(0)$ (the minimum value of a saturated line profile) to $B_\\lambda(T_{layer})$ for each wavelength while holding the two temperatures constant. The above script cell prints out these vaues, which appear to confirm our hypothisis. Thus when plotting the calculated $B_\\lambda$ for a wavelength range and both temperatures, we should thus get back a blackbody spectrum. This is seen in the script cell below, where we see that the wavelengths used do in fact make the two intensities match the blackbody curves of the star surface and isothermal layer respectively. \n",
    "\n",
    "We also plot the emergent line profiles for the said $\\tau(0)$ range for the wavelengths 200, 500 and 1000 nm and normalize the curves by their corresponding continoum intensity $I_{const}$. This is seen in the plot produced by the above code cell. In the plot the red, blue and green curves correspond to the emergent line profiles for wavelengths 200, 500 and 1000 nm respectively. One can clearly see that the distance between the continuum intensity $I_{cont}$ and the lower saturation level $I(0)$ in relative units units is greater for lower wavelengths. Also it is important to note that the continuum intensity and the saturation level intensity are different for each of the three wavelengths, but appear at the same place in the plot due to thir respective normalisation. "
   ]
  },
  {
   "cell_type": "code",
   "execution_count": 17,
   "metadata": {},
   "outputs": [
    {
     "data": {
      "application/vnd.jupyter.widget-view+json": {
       "model_id": "5876431a7e324dffaa5d011c1ee51024",
       "version_major": 2,
       "version_minor": 0
      },
      "text/plain": [
       "Canvas(toolbar=Toolbar(toolitems=[('Home', 'Reset original view', 'home', 'home'), ('Back', 'Back to previous …"
      ]
     },
     "metadata": {},
     "output_type": "display_data"
    },
    {
     "name": "stderr",
     "output_type": "stream",
     "text": [
      "/home/sagittarius/miniconda3/envs/ast4310/lib/python3.7/site-packages/astropy/units/equivalencies.py:124: RuntimeWarning: divide by zero encountered in true_divide\n",
      "  (si.m, si.Hz, lambda x: _si.c.value / x),\n",
      "WARNING: Input contains invalid wavelength/frequency value(s) [astropy.modeling.blackbody]\n",
      "/home/sagittarius/miniconda3/envs/ast4310/lib/python3.7/site-packages/astropy/units/quantity.py:466: RuntimeWarning: overflow encountered in expm1\n",
      "  result = super().__array_ufunc__(function, method, *arrays, **kwargs)\n",
      "/home/sagittarius/miniconda3/envs/ast4310/lib/python3.7/site-packages/astropy/units/quantity.py:466: RuntimeWarning: invalid value encountered in true_divide\n",
      "  result = super().__array_ufunc__(function, method, *arrays, **kwargs)\n"
     ]
    },
    {
     "data": {
      "text/plain": [
       "<matplotlib.legend.Legend at 0x7f55eeda34a8>"
      ]
     },
     "execution_count": 17,
     "metadata": {},
     "output_type": "execute_result"
    }
   ],
   "source": [
    "fig, ax = plt.subplots()\n",
    "lambs = numpy.linspace(0, 1500, 1000) * units.nm\n",
    "spectrum_surface = blackbody_lambda(lambs, temp_surface).to(i_units)\n",
    "spectrum_layer = blackbody_lambda(lambs, temp_layer).to(i_units)\n",
    "ax.plot(lambs, spectrum_surface, label = r\"$B_\\lambda(T_{surface} = 5777 K)$\")\n",
    "ax.plot(wave0, bb0_surf, \"ro\")\n",
    "ax.plot(wave1, bb1_surf, \"ro\")\n",
    "ax.plot(wave2, bb2_surf, \"ro\")\n",
    "ax.plot(wave3, bb3_surf, \"ro\", label = r\"$I_{cont}$\")\n",
    "\n",
    "ax.plot(lambs, spectrum_layer, label = r\"$B_\\lambda(T_{layer} = 4200K)$\")\n",
    "ax.plot(wave0, bb0_layer, \"bo\")\n",
    "ax.plot(wave1, bb1_layer, \"bo\")\n",
    "ax.plot(wave2, bb2_layer, \"bo\")\n",
    "ax.plot(wave3, bb3_layer, \"bo\", label = r\"$I(0)$\")\n",
    "fig.legend()"
   ]
  },
  {
   "cell_type": "markdown",
   "metadata": {},
   "source": [
    "## 2.4 The equivalent width of spectral lines\n",
    "\n",
    "\n",
    "## 2.5 The curve of growth\n",
    "\n",
    "* Compute and plot a curve of growth by plotting $W_\\lambda$ against $\\tau_0$ on a log-log plot. Explain what happens in the three different parts.  \n",
    "\n",
    "* The first part has slope 1:1, the third part has slope 1:2 in this log-log plot.  Why?\n",
    "\n",
    "* Which parameter controls the location of the onset of the third part? Give a rough estimate of its value for solar iron lines through comparison with the given figure from Wright (1948).\n",
    "\n",
    "* Which parameter should you increase to produce emission lines instead of absorption lines? Change it accordingly and modify the code to produce emission profiles and an emission-line curve of growth. (To avoid taking the log of negative $W_\\lambda$, plot the absolute value of $W_\\lambda$.)"
   ]
  },
  {
   "cell_type": "markdown",
   "metadata": {},
   "source": [
    "When plotting the curve off growth using the provided code (see below code cell), we can clearly see three different regimes in the graph; first a linear like graph with slope 1:1 followed by a bend in the middle, and last another linear like graph with slope 1:2. Since the slope of the curve of growth illustrates how much the area covered by the emergent line profile changes when changing $\\tau(0)$, the linear like slope 1:1 in the first part of the curve of growth suggests that the area covered by the emergent line profile grows $\\propto \\tau(0)$. This is similar to the linearity in $I_\\lambda$ observed for $\\tau\\ll 1$ in Sec. 2.2 earlier. When the emergent line profile hits the saturation limit the area covered by the line profile stops growing $\\propto \\tau(0)$ and slows down due to the larger gaussian central part of the line profile being suppressed. This slow down corresponds to the flattening in the second section of the curve of growth. When further increasing $\\tau(0)$ the equivalent width again starts growing linear-like in the log-scale plot due to the now developing wing section of the line profile. However the growth is somewhat slower than in the first part, hence the slope of 1:2. One can see these behaviours quite easily by simply plotting the line profile and tweeking $\\tau(0)$ back and forth and see how the area covered by the line responds to these changes."
   ]
  },
  {
   "cell_type": "code",
   "execution_count": 18,
   "metadata": {},
   "outputs": [
    {
     "data": {
      "application/vnd.jupyter.widget-view+json": {
       "model_id": "ac8a6e644fad4b5c986648e08cf7763a",
       "version_major": 2,
       "version_minor": 0
      },
      "text/plain": [
       "Canvas(toolbar=Toolbar(toolitems=[('Home', 'Reset original view', 'home', 'home'), ('Back', 'Back to previous …"
      ]
     },
     "metadata": {},
     "output_type": "display_data"
    }
   ],
   "source": [
    "tau0 = numpy.logspace(-2, 4, 61)\n",
    "wave = units.Quantity(500, unit='nm')\n",
    "u = numpy.linspace(-200, 200, 1000)\n",
    "a = 0.1\n",
    "\n",
    "intensity = compute_profile(tau0, a, u, wave)\n",
    "intensity /= intensity[0]  # normalise \n",
    "\n",
    "# Now we must specify axis because intensity is a 2D array\n",
    "equivalent_width = numpy.trapz(1 - intensity, x=u, axis=0)\n",
    "\n",
    "fig, ax = plt.subplots()\n",
    "ax.plot(tau0, equivalent_width)\n",
    "ax.set_xlabel(r'$\\tau_0$')\n",
    "ax.set_ylabel('Equivalent width')\n",
    "ax.set_xscale('log')\n",
    "ax.set_yscale('log');"
   ]
  },
  {
   "cell_type": "markdown",
   "metadata": {},
   "source": [
    "The parameter determaining the onset of the third part of the graph is the Coulomb dampening parameter $a$, which is part of what controls the width of the emergent line profile. Changing the emergent line profies width of course changes its area and thus the equivalent width in the curve of growth. In order to estimate the parameter $a$ for the solar iron lines in Wright's (1948), we plot several curves of growth for different parameter values in the range $a\\in(0.01, 0.5)$. This is done in the code cell below. We then estimate by eye which parameter makes the curve of growth fit Wright's work the best. We found that a parameter $a\\in(0.01, 0.033)$ seems to make the best fit. However, this is just a rough initial estimate, as we need to do a proper curve fit to determain $a$ to a higher precision. Below the curve of growths for $a\\in(0.01, 0.1)$ are plotted to illustrate our best fit paramter choices."
   ]
  },
  {
   "cell_type": "code",
   "execution_count": 19,
   "metadata": {},
   "outputs": [
    {
     "data": {
      "application/vnd.jupyter.widget-view+json": {
       "model_id": "eb908d1c286044cc93ffc7df9fded2ed",
       "version_major": 2,
       "version_minor": 0
      },
      "text/plain": [
       "Canvas(toolbar=Toolbar(toolitems=[('Home', 'Reset original view', 'home', 'home'), ('Back', 'Back to previous …"
      ]
     },
     "metadata": {},
     "output_type": "display_data"
    },
    {
     "data": {
      "text/plain": [
       "<matplotlib.legend.Legend at 0x7f55eed266d8>"
      ]
     },
     "execution_count": 19,
     "metadata": {},
     "output_type": "execute_result"
    }
   ],
   "source": [
    "tau0 = numpy.logspace(-2, 4, 61)\n",
    "wave = units.Quantity(500, unit='nm')\n",
    "u = numpy.linspace(-200, 200, 1000)\n",
    "a = numpy.linspace(0.01, 0.1, 5)\n",
    "fig, ax = plt.subplots()\n",
    "\n",
    "for i in a:\n",
    "    intensity = compute_profile(tau0, i, u, wave)\n",
    "    intensity /= intensity[0]  # normalise \n",
    "\n",
    "    # Now we must specify axis because intensity is a 2D array\n",
    "    equivalent_width = numpy.trapz(1 - intensity, x=u, axis=0)\n",
    "    ax.plot(tau0, equivalent_width, label = \"a = %.3f\"%i)\n",
    "    \n",
    "ax.set_xlabel(r'$\\tau_0$')\n",
    "ax.set_ylabel('Equivalent width')\n",
    "ax.set_xscale('log')\n",
    "ax.set_yscale('log')\n",
    "ax.legend(loc=0)"
   ]
  },
  {
   "cell_type": "markdown",
   "metadata": {},
   "source": [
    "In order to change the absorbtion line into an emission line, we need to make the reversing layer emmit more intensity than the stellar surface. This is done by simply making the reversing layer hotter than the stellar surface, thus making $I_{cont} < I(0)$. The code below shows how to calculate the intensity profile for such a case, and the corresponding curve of growth."
   ]
  },
  {
   "cell_type": "code",
   "execution_count": 23,
   "metadata": {},
   "outputs": [
    {
     "name": "stderr",
     "output_type": "stream",
     "text": [
      "/home/sagittarius/miniconda3/envs/ast4310/lib/python3.7/site-packages/ipykernel_launcher.py:18: RuntimeWarning: More than 20 figures have been opened. Figures created through the pyplot interface (`matplotlib.pyplot.figure`) are retained until explicitly closed and may consume too much memory. (To control this warning, see the rcParam `figure.max_open_warning`).\n"
     ]
    },
    {
     "data": {
      "application/vnd.jupyter.widget-view+json": {
       "model_id": "16d218ecb8a041038aa28bfaf54a41b2",
       "version_major": 2,
       "version_minor": 0
      },
      "text/plain": [
       "Canvas(toolbar=Toolbar(toolitems=[('Home', 'Reset original view', 'home', 'home'), ('Back', 'Back to previous …"
      ]
     },
     "metadata": {},
     "output_type": "display_data"
    },
    {
     "name": "stderr",
     "output_type": "stream",
     "text": [
      "/home/sagittarius/miniconda3/envs/ast4310/lib/python3.7/site-packages/ipykernel_launcher.py:26: RuntimeWarning: More than 20 figures have been opened. Figures created through the pyplot interface (`matplotlib.pyplot.figure`) are retained until explicitly closed and may consume too much memory. (To control this warning, see the rcParam `figure.max_open_warning`).\n"
     ]
    },
    {
     "data": {
      "application/vnd.jupyter.widget-view+json": {
       "model_id": "39746766f0174b6599a3a0c2c9a89b23",
       "version_major": 2,
       "version_minor": 0
      },
      "text/plain": [
       "Canvas(toolbar=Toolbar(toolitems=[('Home', 'Reset original view', 'home', 'home'), ('Back', 'Back to previous …"
      ]
     },
     "metadata": {},
     "output_type": "display_data"
    }
   ],
   "source": [
    "\n",
    "def compute_line_profile(tau0, a, u, wavelength, temp_surface, temp_layer):\n",
    "    wave = wavelength[numpy.newaxis, numpy.newaxis]\n",
    "    tau = tau0[numpy.newaxis] * voigt(a, u[:, numpy.newaxis])\n",
    "    tau = tau[..., numpy.newaxis]\n",
    "    result = (blackbody_lambda(wave, temp_surface) * numpy.exp(-tau) +\n",
    "              blackbody_lambda(wave, temp_layer) * (1 - numpy.exp(-tau)))\n",
    "    return numpy.squeeze(result)\n",
    "\n",
    "temp_surface = 5777 * units.K\n",
    "temp_layer = 6200 * units.K\n",
    "tau0 = numpy.logspace(-2, 4, 61)\n",
    "wave = units.Quantity(500, unit='nm')\n",
    "u = numpy.linspace(-200, 200, 1000)\n",
    "a = 0.1\n",
    "\n",
    "intensity = compute_line_profile(tau0, a, u, wave, temp_surface, temp_layer)\n",
    "intensity /= intensity[0]  # normalise \n",
    "fig, ax = plt.subplots()\n",
    "ax.plot(u, intensity[:, 50]);\n",
    "ax.set_xlabel(r\"$u$\")\n",
    "ax.set_ylabel(r\"$I_\\lambda(u)/I_{cont}$\")\n",
    "\n",
    "# Now we must specify axis because intensity is a 2D array\n",
    "equivalent_width = numpy.abs(numpy.trapz(1 - intensity, x=u, axis=0))\n",
    "\n",
    "fig1, ax1 = plt.subplots()\n",
    "ax1.plot(tau0, equivalent_width)\n",
    "ax1.set_xlabel(r'$\\tau_0$')\n",
    "ax1.set_ylabel('Equivalent width')\n",
    "ax1.set_xscale('log')\n",
    "ax1.set_yscale('log');"
   ]
  },
  {
   "cell_type": "markdown",
   "metadata": {},
   "source": [
    "As one can see the curve of growth for an emission line lookes the same as for an absorbtion line. This is due to the area covered by the line profile (the equivalent width) being equally sensitive to changes in $\\tau(0)$ for an absorption and emission line, since the two cases behave symmertrically around the intensity limit set by the sourse function of the reversing layer's surface.  "
   ]
  },
  {
   "cell_type": "code",
   "execution_count": null,
   "metadata": {},
   "outputs": [],
   "source": []
  }
 ],
 "metadata": {
  "kernelspec": {
   "display_name": "Python 3",
   "language": "python",
   "name": "python3"
  },
  "language_info": {
   "codemirror_mode": {
    "name": "ipython",
    "version": 3
   },
   "file_extension": ".py",
   "mimetype": "text/x-python",
   "name": "python",
   "nbconvert_exporter": "python",
   "pygments_lexer": "ipython3",
   "version": "3.7.3"
  }
 },
 "nbformat": 4,
 "nbformat_minor": 4
}
